{
 "cells": [
  {
   "cell_type": "code",
   "execution_count": 3,
   "metadata": {},
   "outputs": [],
   "source": [
    "from matplotlib import rcParams\n",
    "rcParams.update({'figure.figsize': (5,3)})\n",
    "\n",
    "from HD_main import run_distance_test\n",
    "\n",
    "run_distance_test(connectivity=0.03, n_enc=3, n_neurons=20, n_runs=2, save_folder='test')"
   ]
  }
 ],
 "metadata": {
  "kernelspec": {
   "display_name": "snn_dpe",
   "language": "python",
   "name": "python3"
  },
  "language_info": {
   "codemirror_mode": {
    "name": "ipython",
    "version": 3
   },
   "file_extension": ".py",
   "mimetype": "text/x-python",
   "name": "python",
   "nbconvert_exporter": "python",
   "pygments_lexer": "ipython3",
   "version": "3.12.0"
  }
 },
 "nbformat": 4,
 "nbformat_minor": 2
}
