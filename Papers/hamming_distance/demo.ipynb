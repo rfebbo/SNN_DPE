{
 "cells": [
  {
   "cell_type": "code",
   "execution_count": 1,
   "metadata": {},
   "outputs": [],
   "source": [
    "import matplotlib.pyplot as plt\n",
    "import numpy as np\n",
    "\n",
    "from snn_dpe.tools.network import (create_encoders, create_network,\n",
    "                                   reset_network, run_network)\n",
    "from snn_dpe.tools.plotting import plot_network, plot_spike_raster\n",
    "from sympy.utilities.iterables import multiset_permutations\n",
    "import copy\n",
    "import time\n",
    "from datetime import datetime\n",
    "import json\n",
    "from matplotlib.lines import Line2D\n",
    "\n",
    "import tqdm\n",
    "from multiprocessing import Pool"
   ]
  },
  {
   "cell_type": "code",
   "execution_count": 2,
   "metadata": {},
   "outputs": [],
   "source": [
    "# measures the hamming distance between two spike rasters\n",
    "def distance(sr1, sr2):\n",
    "    total_distance = 0\n",
    "    for n1, n2 in zip(sr1, sr2):\n",
    "        for f1, f2 in zip(n1,n2):\n",
    "            if f1 != f2:\n",
    "                total_distance += 1\n",
    "\n",
    "    return total_distance"
   ]
  },
  {
   "cell_type": "code",
   "execution_count": null,
   "metadata": {},
   "outputs": [],
   "source": [
    "def run_test(connectivity):\n",
    "    # create a test network and encoders\n",
    "    n_neurons = 100\n",
    "    n_synapses = int((n_neurons ** 2) * connectivity)\n",
    "\n",
    "    sim_time = 100\n",
    "\n",
    "    min_f = 1\n",
    "    max_f = 100\n",
    "    sim_f = 200\n",
    "\n",
    "    n_enc = 5\n",
    "\n",
    "    network_inputs = []\n",
    "    network_responses = []\n",
    "\n",
    "    np.random.seed()\n",
    "    neurons = create_network(n_neurons, n_synapses, threshold_range=(1, 1), leak_range=(0.0, 0.0), weight_range=(1,1))\n",
    "\n",
    "    encoders = create_encoders(n_enc, min_f, max_f, sim_f, enc_type='period')\n",
    "\n",
    "    # create random encoder inputs from no activity to full activity\n",
    "    enc_inputs = np.random.uniform(0, 1, (n_enc))\n",
    "\n",
    "    # permute encoder order\n",
    "        # this way we get a varying number of distances between each input, \n",
    "        # but the overall activity into the reservoir is the same for each run\n",
    "    for enc_input in multiset_permutations(enc_inputs):\n",
    "        fires = run_network(neurons, encoders, enc_input, sim_time)\n",
    "\n",
    "        reset_network(neurons, encoders)\n",
    "\n",
    "        network_responses.append(fires[:, n_enc:])\n",
    "        network_inputs.append(fires[:, :n_enc])\n",
    "\n",
    "    for i in range(len(network_inputs)):\n",
    "        for j in range(i + 1, len(network_inputs)):\n",
    "            input_d = distance(network_inputs[i], network_inputs[j]) /network_inputs[i].size\n",
    "            response_d = distance(network_responses[i], network_responses[j]) /network_responses[i].size\n",
    "\n",
    "            if input_d not in run['distances']:\n",
    "                run['distances'][input_d] = []\n",
    "                run['saturations'][input_d] = []\n",
    "\n",
    "            run['distances'][input_d].append(response_d)\n",
    "            run['saturations'][input_d].append(response_d)\n",
    "\n"
   ]
  }
 ],
 "metadata": {
  "kernelspec": {
   "display_name": "snn_dpe",
   "language": "python",
   "name": "python3"
  },
  "language_info": {
   "codemirror_mode": {
    "name": "ipython",
    "version": 3
   },
   "file_extension": ".py",
   "mimetype": "text/x-python",
   "name": "python",
   "nbconvert_exporter": "python",
   "pygments_lexer": "ipython3",
   "version": "3.12.0"
  }
 },
 "nbformat": 4,
 "nbformat_minor": 2
}
