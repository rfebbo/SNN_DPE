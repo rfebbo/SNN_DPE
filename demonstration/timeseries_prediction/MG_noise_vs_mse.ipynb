{
 "cells": [
  {
   "cell_type": "code",
   "execution_count": 2,
   "metadata": {},
   "outputs": [],
   "source": [
    "from multiprocessing.pool import ThreadPool as Pool\n",
    "\n",
    "import matplotlib.pyplot as plt\n",
    "import numpy as np\n",
    "from tqdm import tqdm\n",
    "\n",
    "from snn_dpe.tools.data import Mackey_Glass, util\n",
    "from snn_dpe.tools.network import create_network\n",
    "from snn_dpe.tools.plotting import *\n",
    "from snn_dpe.tools.train.timeseries import train_TS"
   ]
  },
  {
   "cell_type": "code",
   "execution_count": 3,
   "metadata": {},
   "outputs": [
    {
     "name": "stderr",
     "output_type": "stream",
     "text": [
      " 40%|████      | 4/10 [02:00<02:19, 23.20s/it]"
     ]
    }
   ],
   "source": [
    "MG_data_tr = Mackey_Glass.read_MG_data('../../Data/MarkusThill-MGAB-60f6b17/1.csv', normalize=True)\n",
    "MG_data_te = Mackey_Glass.read_MG_data('../../Data/MarkusThill-MGAB-60f6b17/2.csv', normalize=True)\n",
    "\n",
    "# slice up MG into input, output pairs\n",
    "input_window_size = 10\n",
    "output_window_size = 1\n",
    "\n",
    "# max here is 10,000 since that's the length of the csv\n",
    "n_tr_data = 2000\n",
    "n_te_data = 2000\n",
    "\n",
    "MG_inputs_tr, MG_outputs_tr = util.generate_io_pairs(MG_data_tr[:n_tr_data], input_window_size, output_window_size)\n",
    "MG_inputs_te, MG_outputs_te = util.generate_io_pairs(MG_data_te[:n_te_data], input_window_size, output_window_size)\n",
    "\n",
    "\n",
    "def run_test(args):\n",
    "    tr_mses = []\n",
    "    te_mses = []\n",
    "\n",
    "    noise_axis = np.linspace(0, 0.1, num=1)\n",
    "\n",
    "    for n in noise_axis:\n",
    "\n",
    "        # create a test network\n",
    "        n_neurons = 30\n",
    "        synapse_density = 0.1\n",
    "        n_input = 12 #how many neurons will receive potentiation adjustments related to MG\n",
    "        n_synapses = int((n_neurons**2)*synapse_density)\n",
    "\n",
    "        # dpe noise\n",
    "        write_noise = 0\n",
    "        # synapse parameters\n",
    "        drift = 0\n",
    "        synapse_noise = n\n",
    "\n",
    "        # training parameters\n",
    "        n_epochs = 3\n",
    "        post_sample_reset = True #also applies to testing\n",
    "        reset_synapses = True #also applies to testing\n",
    "        post_epoch_reset = False\n",
    "\n",
    "        neurons = create_network(n_neurons, n_synapses, negative_weights = True, threshold_range = (0.35, 1), leak_range = (0.05, 0.25), weight_factor = 1, std_dev=synapse_noise, drift = drift)\n",
    "        # train\n",
    "        training_mses, testing_mses, _, _ = train_TS(n_epochs, MG_inputs_tr, MG_outputs_tr, neurons, n_input, silent=True, TS_inputs_te=MG_inputs_te, TS_outputs_te=MG_outputs_te, relative=True, write_noise_std=write_noise, post_sample_reset=post_sample_reset, reset_synapses=reset_synapses, post_epoch_reset=post_epoch_reset)\n",
    "        \n",
    "        # save the final mses of the last epoch\n",
    "        tr_mses.append(training_mses[-1])\n",
    "        te_mses.append(testing_mses[-1])\n",
    "\n",
    "    return tr_mses, te_mses, noise_axis\n",
    "\n",
    "\n",
    "n_tests = 10\n",
    "with Pool(4) as p:\n",
    "    results = list(tqdm(p.imap(run_test, range(n_tests)), total=n_tests))\n",
    "    \n"
   ]
  },
  {
   "cell_type": "code",
   "execution_count": null,
   "metadata": {},
   "outputs": [],
   "source": [
    "(tr_mses, te_mses, noise_axis) = np.mean(results, axis=0)\n",
    "\n",
    "\n",
    "plt.plot(noise_axis, tr_mses, label='Training')\n",
    "plt.plot(noise_axis, te_mses, label='Testing')\n",
    "plt.legend()\n",
    "plt.xlabel('Noise std. dev.')\n",
    "plt.ylabel('Mean Squared Error')\n",
    "# plt.ylim(0, 100)\n",
    "# plt.yscale('log')\n",
    "plt.show()"
   ]
  },
  {
   "cell_type": "code",
   "execution_count": null,
   "metadata": {},
   "outputs": [],
   "source": [
    "m = np.random.choice([-1,1], (2,2))\n",
    "n = np.asarray([[2,4],[5,7]])\n",
    "\n",
    "print(m)\n",
    "print(m*n)\n"
   ]
  },
  {
   "cell_type": "code",
   "execution_count": null,
   "metadata": {},
   "outputs": [],
   "source": [
    "from multiprocessing.pool import ThreadPool as Pool\n",
    "\n",
    "def f(x):\n",
    "    return x*x\n",
    "\n",
    "\n",
    "with Pool(5) as p:\n",
    "    print(p.map(f, [1, 2, 3]))"
   ]
  },
  {
   "cell_type": "code",
   "execution_count": null,
   "metadata": {},
   "outputs": [],
   "source": []
  }
 ],
 "metadata": {
  "kernelspec": {
   "display_name": "Python 3.10.9 64-bit",
   "language": "python",
   "name": "python3"
  },
  "language_info": {
   "codemirror_mode": {
    "name": "ipython",
    "version": 3
   },
   "file_extension": ".py",
   "mimetype": "text/x-python",
   "name": "python",
   "nbconvert_exporter": "python",
   "pygments_lexer": "ipython3",
   "version": "3.11.2"
  },
  "orig_nbformat": 4,
  "vscode": {
   "interpreter": {
    "hash": "e7370f93d1d0cde622a1f8e1c04877d8463912d04d973331ad4851f04de6915a"
   }
  }
 },
 "nbformat": 4,
 "nbformat_minor": 2
}
