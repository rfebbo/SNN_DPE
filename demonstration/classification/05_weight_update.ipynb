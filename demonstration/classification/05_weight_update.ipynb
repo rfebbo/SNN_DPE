{
 "cells": [
  {
   "cell_type": "code",
   "execution_count": 1,
   "metadata": {},
   "outputs": [],
   "source": [
    "import matplotlib.pyplot as plt\n",
    "import numpy as np\n",
    "\n",
    "iris_data_location = '../../Datasets/Iris/iris.data'\n",
    "\n",
    "from snn_dpe import Encoder, Neuron, Synapse\n",
    "from snn_dpe.tools.data import normalize_iris_data, read_iris_data\n",
    "from snn_dpe.tools.network import (create_encoders, create_network,\n",
    "                                   find_steady_state, reset_network,\n",
    "                                   run_network, run_network_early_exit)\n",
    "from snn_dpe.tools.plotting import plot_spike_raster\n",
    "from snn_dpe.tools.train.classification import predict, train_all\n",
    "from snn_dpe.tools.train.utils import forward_pass, mse, update_weights"
   ]
  },
  {
   "cell_type": "code",
   "execution_count": 2,
   "metadata": {},
   "outputs": [
    {
     "name": "stdout",
     "output_type": "stream",
     "text": [
      "Mean Squared Error 0 weight updates = 31.825071420893405\n",
      "Mean Squared Error 1 weight updates = 25.390240568034418\n",
      "Mean Squared Error 2 weight updates = 20.256492360279\n",
      "Mean Squared Error 3 weight updates = 16.16075600554292\n",
      "Mean Squared Error 4 weight updates = 12.893151984339616\n",
      "Mean Squared Error 5 weight updates = 10.286237106374527\n",
      "Mean Squared Error 6 weight updates = 8.20642414958514\n",
      "Mean Squared Error 7 weight updates = 6.54713639462572\n",
      "Mean Squared Error 8 weight updates = 5.223346269763501\n",
      "Mean Squared Error 9 weight updates = 4.167218247698045\n"
     ]
    }
   ],
   "source": [
    "iris_data, labels, classes, attributes = read_iris_data(iris_data_location)\n",
    "\n",
    "normalized_iris_data = normalize_iris_data(iris_data, attributes)\n",
    "\n",
    "test_idx = 0\n",
    "normalized_iris_data_sample = normalized_iris_data[test_idx]\n",
    "label = labels[test_idx]\n",
    "\n",
    "# create a test network and encoders\n",
    "n_neurons = 16\n",
    "n_synapses = int(n_neurons * np.random.uniform(low=2, high=3)) # random number from n_neurons * 2 to n_neurons * 3\n",
    "\n",
    "neurons = create_network(n_neurons, n_synapses)\n",
    "\n",
    "encoders = create_encoders(len(attributes))\n",
    "\n",
    "dpe_weights = np.random.rand(n_neurons, len(classes))\n",
    "\n",
    "sim_time = 200\n",
    "\n",
    "# show we can reduce error for a singe test sample\n",
    "for i in range(10):\n",
    "    # feed a test sample into the test network\n",
    "    spike_raster = run_network_early_exit(neurons, encoders, normalized_iris_data_sample, sim_time)\n",
    "    # plot_spike_raster(fire_matrix)\n",
    "    reset_network(neurons, encoders)\n",
    "\n",
    "    x, y = forward_pass(spike_raster, dpe_weights)\n",
    "\n",
    "    y_hat = np.zeros(len(classes))\n",
    "    y_hat[label] = 1\n",
    "\n",
    "    print(f'Mean Squared Error {i} weight updates = {mse(y, y_hat)}')\n",
    "\n",
    "    update_weights(dpe_weights, x, y, y_hat)"
   ]
  },
  {
   "cell_type": "code",
   "execution_count": null,
   "metadata": {},
   "outputs": [],
   "source": []
  }
 ],
 "metadata": {
  "kernelspec": {
   "display_name": "Python 3.10.9 64-bit",
   "language": "python",
   "name": "python3"
  },
  "language_info": {
   "codemirror_mode": {
    "name": "ipython",
    "version": 3
   },
   "file_extension": ".py",
   "mimetype": "text/x-python",
   "name": "python",
   "nbconvert_exporter": "python",
   "pygments_lexer": "ipython3",
   "version": "3.12.0"
  },
  "orig_nbformat": 4,
  "vscode": {
   "interpreter": {
    "hash": "e7370f93d1d0cde622a1f8e1c04877d8463912d04d973331ad4851f04de6915a"
   }
  }
 },
 "nbformat": 4,
 "nbformat_minor": 2
}
