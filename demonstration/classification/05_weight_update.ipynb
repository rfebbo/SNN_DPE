{
 "cells": [
  {
   "cell_type": "code",
   "execution_count": 5,
   "metadata": {},
   "outputs": [
    {
     "name": "stdout",
     "output_type": "stream",
     "text": [
      "Mean Squared Error after 0 weight updates = 11.935134663768153\n",
      "Mean Squared Error after 1 weight update = 10.858986900870725\n",
      "Mean Squared Error after 2 weight updates = 9.517418368718788\n",
      "Mean Squared Error after 3 weight updates = 8.34159330259093\n",
      "Mean Squared Error after 4 weight updates = 7.311035002362387\n",
      "Mean Squared Error after 5 weight updates = 6.407796552388359\n",
      "Mean Squared Error after 6 weight updates = 5.616148280446289\n",
      "Mean Squared Error after 7 weight updates = 4.922303829419114\n",
      "Mean Squared Error after 8 weight updates = 4.314180071326163\n",
      "Mean Squared Error after 9 weight updates = 3.781186682664456\n"
     ]
    }
   ],
   "source": [
    "from json import encoder\n",
    "import matplotlib.pyplot as plt\n",
    "import numpy as np\n",
    "\n",
    "iris_data_location = '../../Datasets/Iris/iris.data'\n",
    "\n",
    "from snn_dpe import Encoder, Neuron, Synapse\n",
    "from snn_dpe.tools.data import normalize_iris_data, read_iris_data\n",
    "from snn_dpe.tools.network import (create_encoders, create_network,\n",
    "                                   find_steady_state, reset_network,\n",
    "                                   run_network, run_network_early_exit)\n",
    "from snn_dpe.tools.plotting import plot_spike_raster\n",
    "from snn_dpe.tools.train.classification import predict, train_all\n",
    "from snn_dpe.tools.train.utils import forward_pass, mse, update_weights\n",
    "\n",
    "iris_data, labels, classes, attributes = read_iris_data(iris_data_location)\n",
    "\n",
    "normalized_iris_data = normalize_iris_data(iris_data, attributes)\n",
    "\n",
    "test_idx = 0\n",
    "normalized_iris_data_sample = normalized_iris_data[test_idx]\n",
    "label = labels[test_idx]\n",
    "\n",
    "# create a test network and encoders\n",
    "n_neurons = 16\n",
    "n_synapses = int(n_neurons * np.random.uniform(low=2, high=3)) # random number from n_neurons * 2 to n_neurons * 3\n",
    "\n",
    "neurons = create_network(n_neurons, n_synapses)\n",
    "\n",
    "encoders = create_encoders(len(attributes))\n",
    "\n",
    "dpe_weights = np.random.rand(n_neurons, len(classes))\n",
    "\n",
    "sim_time = 200\n",
    "\n",
    "# show we can reduce error for a singe test sample\n",
    "for i in range(10):\n",
    "    # feed a test sample into the test network\n",
    "    spike_raster, encoder_fires = run_network(neurons, encoders, normalized_iris_data_sample, sim_time)\n",
    "    # plot_spike_raster(fire_matrix)\n",
    "    reset_network(neurons, encoders)\n",
    "\n",
    "    x, y = forward_pass(spike_raster, dpe_weights)\n",
    "\n",
    "    y_hat = np.zeros(len(classes))\n",
    "    y_hat[label] = 1\n",
    "\n",
    "    print(f'Mean Squared Error after {i} weight update{'s' if i != 1 else ''} = {mse(y, y_hat)}')\n",
    "\n",
    "    update_weights(dpe_weights, x, y, y_hat)"
   ]
  },
  {
   "cell_type": "code",
   "execution_count": null,
   "metadata": {},
   "outputs": [],
   "source": []
  },
  {
   "cell_type": "code",
   "execution_count": null,
   "metadata": {},
   "outputs": [],
   "source": []
  }
 ],
 "metadata": {
  "kernelspec": {
   "display_name": "Python 3",
   "language": "python",
   "name": "python3"
  },
  "language_info": {
   "codemirror_mode": {
    "name": "ipython",
    "version": 3
   },
   "file_extension": ".py",
   "mimetype": "text/x-python",
   "name": "python",
   "nbconvert_exporter": "python",
   "pygments_lexer": "ipython3",
   "version": "3.13.7"
  },
  "orig_nbformat": 4
 },
 "nbformat": 4,
 "nbformat_minor": 2
}
