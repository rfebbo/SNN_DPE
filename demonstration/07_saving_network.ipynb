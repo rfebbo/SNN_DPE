{
 "cells": [
  {
   "cell_type": "code",
   "execution_count": null,
   "metadata": {},
   "outputs": [],
   "source": [
    "import numpy as np\n",
    "import matplotlib.pyplot as plt\n",
    "\n",
    "import sys\n",
    "sys.path.append('../src')\n",
    "\n",
    "from network_tools import create_network, create_encoders, save_trained_network\n",
    "from iris_data_tools import read_iris_data, normalize_iris_data\n",
    "from training_tools import train_all\n",
    "from plotting_tools import plot_acc\n",
    "\n",
    "iris_data_location = '../Data/iris.data'"
   ]
  },
  {
   "cell_type": "code",
   "execution_count": null,
   "metadata": {},
   "outputs": [],
   "source": [
    "iris_data, labels, classes, attributes = read_iris_data(iris_data_location)\n",
    "normalized_iris_data = normalize_iris_data(iris_data, attributes)\n",
    "\n",
    "#  create network and encoders\n",
    "n_neurons = 16\n",
    "n_synapses = int(n_neurons * np.random.uniform(low=2, high=3)) # random number from n_neurons * 2 to n_neurons * 3\n",
    "\n",
    "encoders = create_encoders(attributes)\n",
    "\n",
    "neurons = create_network(n_neurons, n_synapses)\n",
    "\n",
    "# create dpe weights\n",
    "dpe_weights = np.random.rand(n_neurons, len(classes))\n",
    "\n",
    "n_epochs = 10\n",
    "\n",
    "E_t, avg_ss, c_acc = train_all(normalized_iris_data, labels, classes, neurons, encoders, dpe_weights, sim_time=100, window_size=10, n_epochs=n_epochs)\n",
    "\n",
    "print(f'average steady state t = {avg_ss}')\n",
    "\n",
    "plot_acc(E_t, c_acc)\n",
    "\n",
    "save_trained_network('test', neurons, encoders, dpe_weights, window_size, c_acc, E_t, avg_ss)"
   ]
  }
 ],
 "metadata": {
  "language_info": {
   "name": "python"
  },
  "orig_nbformat": 4
 },
 "nbformat": 4,
 "nbformat_minor": 2
}
