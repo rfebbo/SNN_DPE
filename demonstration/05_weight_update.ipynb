{
 "cells": [
  {
   "cell_type": "code",
   "execution_count": 1,
   "metadata": {},
   "outputs": [],
   "source": [
    "import numpy as np\n",
    "import matplotlib.pyplot as plt\n",
    "\n",
    "import sys\n",
    "sys.path.append('../src')\n",
    "\n",
    "test_all = True\n",
    "iris_data_location = '../Data/iris.data'\n",
    "\n",
    "from neuron_synapse import Neuron, Synapse\n",
    "from encoder import Encoder\n",
    "from network_tools import create_network, create_encoders, run_network, reset_network, find_steady_state, run_network_early_exit\n",
    "from iris_data_tools import read_iris_data, normalize_iris_data\n",
    "from training_tools import mse, forward_pass, update_weights, train_all\n",
    "\n",
    "from plotting_tools import *"
   ]
  },
  {
   "cell_type": "code",
   "execution_count": 3,
   "metadata": {},
   "outputs": [
    {
     "name": "stdout",
     "output_type": "stream",
     "text": [
      "E0 = 71.77083129676039\n",
      "E1 = 54.73310400166174\n",
      "E2 = 41.73997457643969\n",
      "E3 = 31.831293134570565\n",
      "E4 = 24.274840435357653\n",
      "E5 = 18.51221927022805\n",
      "E6 = 14.117590730270587\n",
      "E7 = 10.766206099770699\n",
      "E8 = 8.210408985309794\n",
      "E9 = 6.261334316040217\n"
     ]
    }
   ],
   "source": [
    "iris_data, labels, classes, attributes = read_iris_data(iris_data_location)\n",
    "\n",
    "normalized_iris_data = normalize_iris_data(iris_data, attributes)\n",
    "\n",
    "test_idx = 0\n",
    "normalized_iris_data_sample = normalized_iris_data[test_idx]\n",
    "label = labels[test_idx]\n",
    "\n",
    "# create a test network and encoders\n",
    "n_neurons = 16\n",
    "n_synapses = int(n_neurons * np.random.uniform(low=2, high=3)) # random number from n_neurons * 2 to n_neurons * 3\n",
    "\n",
    "neurons = create_network(n_neurons, n_synapses)\n",
    "\n",
    "encoders = create_encoders(attributes)\n",
    "\n",
    "dpe_weights = np.random.rand(n_neurons, len(classes))\n",
    "\n",
    "sim_time = 200\n",
    "\n",
    "# show we can reduce error for a singe test sample\n",
    "for i in range(10):\n",
    "    # feed a test sample into the test network\n",
    "    fire_matrix = run_network_early_exit(neurons, encoders, normalized_iris_data_sample, sim_time)\n",
    "\n",
    "    reset_network(neurons, encoders)\n",
    "\n",
    "    # fire_matrix, total_fires, steady_state_t, _ = find_steady_state(sim_time, attributes, fires)\n",
    "\n",
    "    x, y = forward_pass(fire_matrix, dpe_weights)\n",
    "\n",
    "    y_hat = np.zeros(len(classes))\n",
    "    y_hat[label] = 1\n",
    "\n",
    "    print(f'Mean Squared Error {i} = {mse(y, y_hat)}')\n",
    "\n",
    "    update_weights(fire_matrix, dpe_weights, x, y, y_hat)"
   ]
  },
  {
   "cell_type": "code",
   "execution_count": null,
   "metadata": {},
   "outputs": [],
   "source": []
  }
 ],
 "metadata": {
  "kernelspec": {
   "display_name": "Python 3.10.6 64-bit",
   "language": "python",
   "name": "python3"
  },
  "language_info": {
   "codemirror_mode": {
    "name": "ipython",
    "version": 3
   },
   "file_extension": ".py",
   "mimetype": "text/x-python",
   "name": "python",
   "nbconvert_exporter": "python",
   "pygments_lexer": "ipython3",
   "version": "3.10.6"
  },
  "orig_nbformat": 4,
  "vscode": {
   "interpreter": {
    "hash": "767d51c1340bd893661ea55ea3124f6de3c7a262a8b4abca0554b478b1e2ff90"
   }
  }
 },
 "nbformat": 4,
 "nbformat_minor": 2
}
