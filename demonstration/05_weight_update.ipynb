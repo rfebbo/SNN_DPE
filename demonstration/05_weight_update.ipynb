{
 "cells": [
  {
   "cell_type": "code",
   "execution_count": 1,
   "metadata": {},
   "outputs": [],
   "source": [
    "import matplotlib.pyplot as plt\n",
    "import numpy as np\n",
    "\n",
    "iris_data_location = '../Data/Iris/iris.data'\n",
    "\n",
    "from snn_dpe import Encoder, Neuron, Synapse\n",
    "from snn_dpe.tools.data import normalize_iris_data, read_iris_data\n",
    "from snn_dpe.tools.network import (create_encoders, create_network,\n",
    "                                   find_steady_state, reset_network,\n",
    "                                   run_network, run_network_early_exit)\n",
    "from snn_dpe.tools.plotting import *\n",
    "from snn_dpe.tools.test import predict\n",
    "from snn_dpe.tools.train import forward_pass, mse, train_all, update_weights"
   ]
  },
  {
   "cell_type": "code",
   "execution_count": 4,
   "metadata": {},
   "outputs": [
    {
     "name": "stdout",
     "output_type": "stream",
     "text": [
      "Mean Squared Error 0 = 12.949742371894132\n",
      "Mean Squared Error 1 = 12.521111087477806\n",
      "Mean Squared Error 2 = 12.106667326851849\n",
      "Mean Squared Error 3 = 11.705941488662791\n",
      "Mean Squared Error 4 = 11.31847951517382\n",
      "Mean Squared Error 5 = 10.943842377777298\n",
      "Mean Squared Error 6 = 10.581605579536628\n",
      "Mean Squared Error 7 = 10.23135867419373\n",
      "Mean Squared Error 8 = 9.892704801097235\n",
      "Mean Squared Error 9 = 9.565260235524335\n"
     ]
    }
   ],
   "source": [
    "iris_data, labels, classes, attributes = read_iris_data(iris_data_location)\n",
    "\n",
    "normalized_iris_data = normalize_iris_data(iris_data, attributes)\n",
    "\n",
    "test_idx = 0\n",
    "normalized_iris_data_sample = normalized_iris_data[test_idx]\n",
    "label = labels[test_idx]\n",
    "\n",
    "# create a test network and encoders\n",
    "n_neurons = 16\n",
    "n_synapses = int(n_neurons * np.random.uniform(low=2, high=3)) # random number from n_neurons * 2 to n_neurons * 3\n",
    "\n",
    "neurons = create_network(n_neurons, n_synapses)\n",
    "\n",
    "encoders = create_encoders(len(attributes))\n",
    "\n",
    "dpe_weights = np.random.rand(n_neurons, len(classes))\n",
    "\n",
    "sim_time = 200\n",
    "\n",
    "# show we can reduce error for a singe test sample\n",
    "for i in range(10):\n",
    "    # feed a test sample into the test network\n",
    "    fire_matrix = run_network_early_exit(neurons, encoders, normalized_iris_data_sample, sim_time)\n",
    "\n",
    "    reset_network(neurons, encoders)\n",
    "\n",
    "    x, y = forward_pass(fire_matrix, dpe_weights)\n",
    "\n",
    "    y_hat = np.zeros(len(classes))\n",
    "    y_hat[label] = 1\n",
    "\n",
    "    print(f'Mean Squared Error {i} = {mse(y, y_hat)}')\n",
    "\n",
    "    update_weights(fire_matrix, dpe_weights, x, y, y_hat)"
   ]
  },
  {
   "cell_type": "code",
   "execution_count": null,
   "metadata": {},
   "outputs": [],
   "source": []
  }
 ],
 "metadata": {
  "kernelspec": {
   "display_name": "Python 3.10.6 64-bit",
   "language": "python",
   "name": "python3"
  },
  "language_info": {
   "codemirror_mode": {
    "name": "ipython",
    "version": 3
   },
   "file_extension": ".py",
   "mimetype": "text/x-python",
   "name": "python",
   "nbconvert_exporter": "python",
   "pygments_lexer": "ipython3",
   "version": "3.10.9"
  },
  "orig_nbformat": 4,
  "vscode": {
   "interpreter": {
    "hash": "767d51c1340bd893661ea55ea3124f6de3c7a262a8b4abca0554b478b1e2ff90"
   }
  }
 },
 "nbformat": 4,
 "nbformat_minor": 2
}
