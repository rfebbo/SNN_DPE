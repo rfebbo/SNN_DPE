{
 "cells": [
  {
   "cell_type": "code",
   "execution_count": 1,
   "metadata": {},
   "outputs": [],
   "source": [
    "import matplotlib.pyplot as plt\n",
    "import numpy as np\n",
    "\n",
    "from snn_dpe.tools.network import create_encoders, create_network, run_network_timeseries\n",
    "from snn_dpe.tools.data import Mackey_Glass, util\n",
    "\n",
    "from snn_dpe.tools.train import forward_pass, mse, update_weights, train_TS, test_timeseries\n",
    "from tqdm import tqdm\n",
    "from snn_dpe.tools.plotting import *"
   ]
  },
  {
   "cell_type": "code",
   "execution_count": 3,
   "metadata": {},
   "outputs": [
    {
     "name": "stderr",
     "output_type": "stream",
     "text": [
      " 60%|██████    | 6/10 [11:55<08:20, 125.01s/it]/home/rfebbo/git/SNN_DPE/src/snn_dpe/tools/train.py:123: RuntimeWarning: overflow encountered in add\n",
      "  dpe_weights += np.random.choice([-1,1], dpe_weights.shape)*dpe_weights*write_noise_std\n",
      "/home/rfebbo/git/SNN_DPE/src/snn_dpe/tools/train.py:31: RuntimeWarning: invalid value encountered in double_scalars\n",
      "  dpe_weights[i][j] -= e[j] * x[i] * lr\n",
      "/home/rfebbo/git/SNN_DPE/src/snn_dpe/tools/train.py:31: RuntimeWarning: invalid value encountered in subtract\n",
      "  dpe_weights[i][j] -= e[j] * x[i] * lr\n",
      "/home/rfebbo/git/SNN_DPE/src/snn_dpe/tools/train.py:123: RuntimeWarning: invalid value encountered in add\n",
      "  dpe_weights += np.random.choice([-1,1], dpe_weights.shape)*dpe_weights*write_noise_std\n",
      "100%|██████████| 10/10 [19:11<00:00, 115.14s/it]\n"
     ]
    }
   ],
   "source": [
    "MG_data_tr = Mackey_Glass.read_MG_data('./Data/MarkusThill-MGAB-60f6b17/1.csv', normalize=True)\n",
    "MG_data_te = Mackey_Glass.read_MG_data('./Data/MarkusThill-MGAB-60f6b17/2.csv', normalize=True)\n",
    "\n",
    "# slice up MG into input, output pairs\n",
    "input_window_size = 10\n",
    "output_window_size = 1\n",
    "\n",
    "\n",
    "n_tr_data = 2000\n",
    "n_te_data = 2000\n",
    "\n",
    "MG_inputs_tr, MG_outputs_tr = util.generate_io_pairs(MG_data_tr[:n_tr_data], input_window_size, output_window_size)\n",
    "MG_inputs_te, MG_outputs_te = util.generate_io_pairs(MG_data_te[:n_te_data], input_window_size, output_window_size)\n",
    "\n",
    "\n",
    "# create a test network\n",
    "n_neurons = 30\n",
    "synapse_density = 0.1\n",
    "n_input = 12 #how many neurons will receive potentiation adjustments related to MG\n",
    "n_synapses = int((n_neurons**2)*synapse_density)\n",
    "\n",
    "neurons = create_network(n_neurons, n_synapses, negative_weights = True, threshold_range = (0.35, 1), leak_range = (0.05, 0.25), weight_factor = 1)\n",
    "\n",
    "n_epochs = 3\n",
    "\n",
    "noise_axis = np.linspace(0, 0.20, num=20)\n",
    "tr_mses = []\n",
    "te_mses = []\n",
    "\n",
    "for n in noise_axis:\n",
    "    tr_mses.append([])\n",
    "    te_mses.append([])\n",
    "\n",
    "for _ in tqdm(range(10)):\n",
    "    for i, n in enumerate(noise_axis):\n",
    "        training_mses, testing_mses, relative_dpe_weights, dpe_bias_relative = train_TS(n_epochs, MG_inputs_tr, MG_outputs_tr, neurons, n_input, TS_inputs_te=MG_inputs_te, TS_outputs_te=MG_outputs_te, relative=True, write_noise_std=n)\n",
    "        tr_mses[i].append(training_mses[-1])\n",
    "        te_mses[i].append(testing_mses[-1])\n",
    "\n",
    "\n"
   ]
  },
  {
   "cell_type": "code",
   "execution_count": null,
   "metadata": {},
   "outputs": [],
   "source": [
    "plt.plot(noise_axis, tr_mses, label='Training')\n",
    "plt.plot(noise_axis, te_mses, label='Testing')\n",
    "plt.legend()\n",
    "plt.xlabel('Noise std. dev.')\n",
    "plt.ylabel('Mean Squared Error')\n",
    "plt.show()"
   ]
  }
 ],
 "metadata": {
  "kernelspec": {
   "display_name": "Python 3.10.9 64-bit",
   "language": "python",
   "name": "python3"
  },
  "language_info": {
   "codemirror_mode": {
    "name": "ipython",
    "version": 3
   },
   "file_extension": ".py",
   "mimetype": "text/x-python",
   "name": "python",
   "nbconvert_exporter": "python",
   "pygments_lexer": "ipython3",
   "version": "3.10.9"
  },
  "orig_nbformat": 4,
  "vscode": {
   "interpreter": {
    "hash": "e7370f93d1d0cde622a1f8e1c04877d8463912d04d973331ad4851f04de6915a"
   }
  }
 },
 "nbformat": 4,
 "nbformat_minor": 2
}
